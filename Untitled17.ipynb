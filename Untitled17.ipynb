{
 "cells": [
  {
   "cell_type": "code",
   "execution_count": 1,
   "metadata": {},
   "outputs": [
    {
     "data": {
      "text/plain": [
       "<Response [200]>"
      ]
     },
     "execution_count": 1,
     "metadata": {},
     "output_type": "execute_result"
    }
   ],
   "source": [
    "import requests\n",
    "\n",
    "# slack access bot token\n",
    "slack_token = \"xpxb-9534042403-731932630054-KSwhrmhg87TXGuF23Z4ipTRm\"\n",
    "\n",
    "data = {\n",
    "    'token': slack_token,\n",
    "    'channel': 'U01TKJCLTR9',    # User ID. \n",
    "    'as_user': True,\n",
    "    'text': \"GO Home!\"\n",
    "}\n",
    "\n",
    "requests.post(url='https://slack.com/api/chat.postMessage',\n",
    "              data=data)"
   ]
  },
  {
   "cell_type": "code",
   "execution_count": null,
   "metadata": {},
   "outputs": [],
   "source": []
  },
  {
   "cell_type": "code",
   "execution_count": null,
   "metadata": {},
   "outputs": [],
   "source": [
    "df=pd.read_csv(r'D:\\Data\\Redflag_reports\\test21.csv')\n",
    "for index, row in df.iterrows():\n",
    "    print (row[\"Reports name\"], row[\"Status\"])\n",
    "    try:\n",
    "        if row[\"Status\"]==\"Not Updated\":\n",
    "            #print(\"Sent an email\")\n",
    "            li=[my_second_email]\n",
    "            for dest in li:\n",
    "                s = smtplib.SMTP('smtp.gmail.com', 587)\n",
    "                s.starttls()\n",
    "                s.login(myemail, password)\n",
    "                message = \"Raw Data is not an updated one\"      \n",
    "                s.sendmail(myemail, dest, message)\n",
    "                s.quit()         \n",
    "        else:\n",
    "            pass\n",
    "    except:\n",
    "        print(\"Email Authentication Failed:\")"
   ]
  }
 ],
 "metadata": {
  "kernelspec": {
   "display_name": "Python 3",
   "language": "python",
   "name": "python3"
  },
  "language_info": {
   "codemirror_mode": {
    "name": "ipython",
    "version": 3
   },
   "file_extension": ".py",
   "mimetype": "text/x-python",
   "name": "python",
   "nbconvert_exporter": "python",
   "pygments_lexer": "ipython3",
   "version": "3.8.5"
  }
 },
 "nbformat": 4,
 "nbformat_minor": 4
}
