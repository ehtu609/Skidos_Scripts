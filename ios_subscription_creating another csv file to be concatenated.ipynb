{
 "cells": [
  {
   "cell_type": "code",
   "execution_count": 76,
   "metadata": {},
   "outputs": [
    {
     "ename": "SyntaxError",
     "evalue": "invalid syntax (<ipython-input-76-d2af474dbf23>, line 38)",
     "output_type": "error",
     "traceback": [
      "\u001b[1;36m  File \u001b[1;32m\"<ipython-input-76-d2af474dbf23>\"\u001b[1;36m, line \u001b[1;32m38\u001b[0m\n\u001b[1;33m    else:\u001b[0m\n\u001b[1;37m    ^\u001b[0m\n\u001b[1;31mSyntaxError\u001b[0m\u001b[1;31m:\u001b[0m invalid syntax\n"
     ]
    }
   ],
   "source": [
    "import os\n",
    "import pandas as pd\n",
    "from pandas import DataFrame\n",
    "from datetime import datetime\n",
    "import glob\n",
    "\n",
    "with os.scandir('D:\\othermonthlyreports') as files:\n",
    "    for file in files:\n",
    "        substring=file.name[-17:]\n",
    "        substring1=substring[:8]\n",
    "        dated_substring=datetime.strptime(substring1, '%Y%m%d')\n",
    "        dated_substring=dated_substring.date()\n",
    "        #print(substring1)\n",
    "        print(dated_substring)\n",
    "        \n",
    "        current_date=datetime.today()\n",
    "        current_date=current_date.date()\n",
    "        #print(current_date)\n",
    "        \n",
    "        difference_in_dates=current_date - dated_substring\n",
    "        difference_in_days=difference_in_dates.days\n",
    "        \n",
    "        critical_view=[]\n",
    "        critical_view_ID=[]\n",
    "        reports_name=[]\n",
    "        fetch_file_until_date=[]\n",
    "        curr_date_list=[]\n",
    "        \n",
    "        if (difference_in_days<=2):\n",
    "            critical_view_ID.append(\"CVBR2\")\n",
    "            reports_name.append(\"ios subscription\")\n",
    "            critical_view.append(\"Updated\")\n",
    "            fetch_file_until_date.append(dated_substring)\n",
    "            curr_date_list.append(current_date)\n",
    "            #timeliness_reports={'Business Rule no.':critical_view_ID,'Reports name':reports_name,'Status':critical_view, 'Reports date':fetch_file_until_date, 'Current Date':curr_date_list}\n",
    "            #df=DataFrame(timeliness_reports, columns=['Business Rule no.', 'Reports name','Status', 'Reports date', 'Current Date'])\n",
    "            df=pd.read_csv('D:\\Data\\Redflag_reports\\Business_Reports1.csv')\n",
    "            mod_df = df.append({'Business Rule no.':critical_view_ID[0],'Reports name':reports_name[0],'Status':critical_view[0], 'Reports date':fetch_file_until_date[0], 'Current Date':curr_date_list[0]} , ignore_index=True)\n",
    "        else:\n",
    "            critical_view_ID.append(\"CVBR2\")\n",
    "            reports_name.append(\"ios subscription\")\n",
    "            critical_view.append(\"Not Updated\")\n",
    "            fetch_file_until_date.append(dated_substring)\n",
    "            curr_date_list.append(current_date)\n",
    "            #timeliness_reports={'Business Rule no.':critical_view_ID,'Reports name':reports_name,'Status':critical_view, 'Reports date':fetch_file_until_date, 'Current Date':curr_date_list}\n",
    "            #df=DataFrame(timeliness_reports, columns=['Business Rule no.','Reports name', 'Status', 'Reports date', 'Current Date'])\n",
    "            df=pd.read_csv('D:\\Data\\Redflag_reports\\Business_Reports1.csv')\n",
    "            mod_df = df.append({'Business Rule no.':critical_view_ID,'Reports name':reports_name,'Status':critical_view, 'Reports date':fetch_file_until_date, 'Current Date':curr_date_list} , ignore_index=True)\n",
    "            \n",
    "mod_df.to_csv('D:\\Data\\Redflag_reports\\Business_Reports1.csv', index=False)"
   ]
  },
  {
   "cell_type": "code",
   "execution_count": 66,
   "metadata": {},
   "outputs": [
    {
     "data": {
      "text/html": [
       "<div>\n",
       "<style scoped>\n",
       "    .dataframe tbody tr th:only-of-type {\n",
       "        vertical-align: middle;\n",
       "    }\n",
       "\n",
       "    .dataframe tbody tr th {\n",
       "        vertical-align: top;\n",
       "    }\n",
       "\n",
       "    .dataframe thead th {\n",
       "        text-align: right;\n",
       "    }\n",
       "</style>\n",
       "<table border=\"1\" class=\"dataframe\">\n",
       "  <thead>\n",
       "    <tr style=\"text-align: right;\">\n",
       "      <th></th>\n",
       "      <th>Business Rule no.</th>\n",
       "      <th>Reports name</th>\n",
       "      <th>Status</th>\n",
       "      <th>Reports date</th>\n",
       "      <th>Current Date</th>\n",
       "    </tr>\n",
       "  </thead>\n",
       "  <tbody>\n",
       "    <tr>\n",
       "      <th>0</th>\n",
       "      <td>CVBR1</td>\n",
       "      <td>AppFollow ios top funnel</td>\n",
       "      <td>Updated</td>\n",
       "      <td>2021-05-18</td>\n",
       "      <td>2021-05-19</td>\n",
       "    </tr>\n",
       "    <tr>\n",
       "      <th>2</th>\n",
       "      <td>CVBR2</td>\n",
       "      <td>ios subscription</td>\n",
       "      <td>Not Updated</td>\n",
       "      <td>2021-05-16</td>\n",
       "      <td>2021-05-19</td>\n",
       "    </tr>\n",
       "  </tbody>\n",
       "</table>\n",
       "</div>"
      ],
      "text/plain": [
       "  Business Rule no.              Reports name       Status Reports date  \\\n",
       "0             CVBR1  AppFollow ios top funnel      Updated   2021-05-18   \n",
       "2             CVBR2          ios subscription  Not Updated   2021-05-16   \n",
       "\n",
       "  Current Date  \n",
       "0   2021-05-19  \n",
       "2   2021-05-19  "
      ]
     },
     "execution_count": 66,
     "metadata": {},
     "output_type": "execute_result"
    }
   ],
   "source": [
    "mod_df"
   ]
  },
  {
   "cell_type": "code",
   "execution_count": 43,
   "metadata": {},
   "outputs": [
    {
     "data": {
      "text/plain": [
       "['Update']"
      ]
     },
     "execution_count": 43,
     "metadata": {},
     "output_type": "execute_result"
    }
   ],
   "source": [
    "row_df"
   ]
  },
  {
   "cell_type": "code",
   "execution_count": 40,
   "metadata": {},
   "outputs": [
    {
     "data": {
      "text/html": [
       "<div>\n",
       "<style scoped>\n",
       "    .dataframe tbody tr th:only-of-type {\n",
       "        vertical-align: middle;\n",
       "    }\n",
       "\n",
       "    .dataframe tbody tr th {\n",
       "        vertical-align: top;\n",
       "    }\n",
       "\n",
       "    .dataframe thead th {\n",
       "        text-align: right;\n",
       "    }\n",
       "</style>\n",
       "<table border=\"1\" class=\"dataframe\">\n",
       "  <thead>\n",
       "    <tr style=\"text-align: right;\">\n",
       "      <th></th>\n",
       "      <th>Business Rule no.</th>\n",
       "      <th>Reports name</th>\n",
       "      <th>Status</th>\n",
       "      <th>Reports date</th>\n",
       "      <th>Current Date</th>\n",
       "    </tr>\n",
       "  </thead>\n",
       "  <tbody>\n",
       "    <tr>\n",
       "      <th>0</th>\n",
       "      <td>CVBR1</td>\n",
       "      <td>AppFollow ios top funnel</td>\n",
       "      <td>Updated</td>\n",
       "      <td>2021-05-18</td>\n",
       "      <td>2021-05-19</td>\n",
       "    </tr>\n",
       "    <tr>\n",
       "      <th>1</th>\n",
       "      <td>CVBR2</td>\n",
       "      <td>ios subscription</td>\n",
       "      <td>Updated</td>\n",
       "      <td>2021-05-17</td>\n",
       "      <td>2021-05-19</td>\n",
       "    </tr>\n",
       "    <tr>\n",
       "      <th>2</th>\n",
       "      <td>CVBR2</td>\n",
       "      <td>ios subscription</td>\n",
       "      <td>Not Updated</td>\n",
       "      <td>2021-05-16</td>\n",
       "      <td>2021-05-19</td>\n",
       "    </tr>\n",
       "  </tbody>\n",
       "</table>\n",
       "</div>"
      ],
      "text/plain": [
       "  Business Rule no.              Reports name       Status Reports date  \\\n",
       "0             CVBR1  AppFollow ios top funnel      Updated   2021-05-18   \n",
       "1             CVBR2          ios subscription      Updated   2021-05-17   \n",
       "2             CVBR2          ios subscription  Not Updated   2021-05-16   \n",
       "\n",
       "  Current Date  \n",
       "0   2021-05-19  \n",
       "1   2021-05-19  \n",
       "2   2021-05-19  "
      ]
     },
     "execution_count": 40,
     "metadata": {},
     "output_type": "execute_result"
    }
   ],
   "source": [
    "mod_df"
   ]
  },
  {
   "cell_type": "code",
   "execution_count": null,
   "metadata": {},
   "outputs": [],
   "source": []
  },
  {
   "cell_type": "code",
   "execution_count": 18,
   "metadata": {},
   "outputs": [
    {
     "data": {
      "text/html": [
       "<div>\n",
       "<style scoped>\n",
       "    .dataframe tbody tr th:only-of-type {\n",
       "        vertical-align: middle;\n",
       "    }\n",
       "\n",
       "    .dataframe tbody tr th {\n",
       "        vertical-align: top;\n",
       "    }\n",
       "\n",
       "    .dataframe thead th {\n",
       "        text-align: right;\n",
       "    }\n",
       "</style>\n",
       "<table border=\"1\" class=\"dataframe\">\n",
       "  <thead>\n",
       "    <tr style=\"text-align: right;\">\n",
       "      <th></th>\n",
       "      <th>Unnamed: 0</th>\n",
       "      <th>Unnamed: 0.1</th>\n",
       "      <th>Business Rule no.</th>\n",
       "      <th>Reports name</th>\n",
       "      <th>Status</th>\n",
       "      <th>Reports date</th>\n",
       "      <th>Current Date</th>\n",
       "    </tr>\n",
       "  </thead>\n",
       "  <tbody>\n",
       "    <tr>\n",
       "      <th>0</th>\n",
       "      <td>0.0</td>\n",
       "      <td>0.0</td>\n",
       "      <td>CVBR1</td>\n",
       "      <td>AppFollow ios top funnel</td>\n",
       "      <td>Updated</td>\n",
       "      <td>2021-05-18</td>\n",
       "      <td>2021-05-19</td>\n",
       "    </tr>\n",
       "    <tr>\n",
       "      <th>1</th>\n",
       "      <td>1.0</td>\n",
       "      <td>1.0</td>\n",
       "      <td>CVBR2</td>\n",
       "      <td>ios subscription</td>\n",
       "      <td>Updated</td>\n",
       "      <td>2021-05-17</td>\n",
       "      <td>2021-05-19</td>\n",
       "    </tr>\n",
       "    <tr>\n",
       "      <th>2</th>\n",
       "      <td>2.0</td>\n",
       "      <td>NaN</td>\n",
       "      <td>CVBR2</td>\n",
       "      <td>ios subscription</td>\n",
       "      <td>Not Updated</td>\n",
       "      <td>2021-05-16</td>\n",
       "      <td>2021-05-19</td>\n",
       "    </tr>\n",
       "    <tr>\n",
       "      <th>3</th>\n",
       "      <td>NaN</td>\n",
       "      <td>NaN</td>\n",
       "      <td>CVBR2</td>\n",
       "      <td>ios subscription</td>\n",
       "      <td>Not Updated</td>\n",
       "      <td>2021-05-16</td>\n",
       "      <td>2021-05-19</td>\n",
       "    </tr>\n",
       "  </tbody>\n",
       "</table>\n",
       "</div>"
      ],
      "text/plain": [
       "   Unnamed: 0  Unnamed: 0.1 Business Rule no.              Reports name  \\\n",
       "0         0.0           0.0             CVBR1  AppFollow ios top funnel   \n",
       "1         1.0           1.0             CVBR2          ios subscription   \n",
       "2         2.0           NaN             CVBR2          ios subscription   \n",
       "3         NaN           NaN             CVBR2          ios subscription   \n",
       "\n",
       "        Status Reports date Current Date  \n",
       "0      Updated   2021-05-18   2021-05-19  \n",
       "1      Updated   2021-05-17   2021-05-19  \n",
       "2  Not Updated   2021-05-16   2021-05-19  \n",
       "3  Not Updated   2021-05-16   2021-05-19  "
      ]
     },
     "execution_count": 18,
     "metadata": {},
     "output_type": "execute_result"
    }
   ],
   "source": [
    "mod_df"
   ]
  },
  {
   "cell_type": "markdown",
   "metadata": {},
   "source": [
    "mod_df"
   ]
  },
  {
   "cell_type": "code",
   "execution_count": 3,
   "metadata": {},
   "outputs": [
    {
     "data": {
      "text/html": [
       "<div>\n",
       "<style scoped>\n",
       "    .dataframe tbody tr th:only-of-type {\n",
       "        vertical-align: middle;\n",
       "    }\n",
       "\n",
       "    .dataframe tbody tr th {\n",
       "        vertical-align: top;\n",
       "    }\n",
       "\n",
       "    .dataframe thead th {\n",
       "        text-align: right;\n",
       "    }\n",
       "</style>\n",
       "<table border=\"1\" class=\"dataframe\">\n",
       "  <thead>\n",
       "    <tr style=\"text-align: right;\">\n",
       "      <th></th>\n",
       "      <th>Business Rule no.</th>\n",
       "      <th>Reports name</th>\n",
       "      <th>Status</th>\n",
       "      <th>Reports date</th>\n",
       "      <th>Current Date</th>\n",
       "    </tr>\n",
       "  </thead>\n",
       "  <tbody>\n",
       "    <tr>\n",
       "      <th>0</th>\n",
       "      <td>CVBR1</td>\n",
       "      <td>AppFollow ios top funnel</td>\n",
       "      <td>Not Updated</td>\n",
       "      <td>2021-05-16</td>\n",
       "      <td>2021-05-18</td>\n",
       "    </tr>\n",
       "    <tr>\n",
       "      <th>1</th>\n",
       "      <td>['CVBR2']</td>\n",
       "      <td>['ios subscription']</td>\n",
       "      <td>['Not Updated']</td>\n",
       "      <td>[datetime.date(2021, 5, 16)]</td>\n",
       "      <td>[datetime.date(2021, 5, 19)]</td>\n",
       "    </tr>\n",
       "    <tr>\n",
       "      <th>2</th>\n",
       "      <td>[CVBR2]</td>\n",
       "      <td>[ios subscription]</td>\n",
       "      <td>[Not Updated]</td>\n",
       "      <td>[2021-05-16]</td>\n",
       "      <td>[2021-05-19]</td>\n",
       "    </tr>\n",
       "  </tbody>\n",
       "</table>\n",
       "</div>"
      ],
      "text/plain": [
       "  Business Rule no.              Reports name           Status  \\\n",
       "0             CVBR1  AppFollow ios top funnel      Not Updated   \n",
       "1         ['CVBR2']      ['ios subscription']  ['Not Updated']   \n",
       "2           [CVBR2]        [ios subscription]    [Not Updated]   \n",
       "\n",
       "                   Reports date                  Current Date  \n",
       "0                    2021-05-16                    2021-05-18  \n",
       "1  [datetime.date(2021, 5, 16)]  [datetime.date(2021, 5, 19)]  \n",
       "2                  [2021-05-16]                  [2021-05-19]  "
      ]
     },
     "execution_count": 3,
     "metadata": {},
     "output_type": "execute_result"
    }
   ],
   "source": [
    "mod_df"
   ]
  },
  {
   "cell_type": "code",
   "execution_count": null,
   "metadata": {},
   "outputs": [],
   "source": []
  }
 ],
 "metadata": {
  "kernelspec": {
   "display_name": "Python 3",
   "language": "python",
   "name": "python3"
  },
  "language_info": {
   "codemirror_mode": {
    "name": "ipython",
    "version": 3
   },
   "file_extension": ".py",
   "mimetype": "text/x-python",
   "name": "python",
   "nbconvert_exporter": "python",
   "pygments_lexer": "ipython3",
   "version": "3.8.5"
  }
 },
 "nbformat": 4,
 "nbformat_minor": 4
}
