{
 "cells": [
  {
   "cell_type": "code",
   "execution_count": 1,
   "metadata": {},
   "outputs": [],
   "source": [
    "import os"
   ]
  },
  {
   "cell_type": "code",
   "execution_count": 2,
   "metadata": {},
   "outputs": [],
   "source": [
    "path='D:\\ios raw data'"
   ]
  },
  {
   "cell_type": "code",
   "execution_count": 3,
   "metadata": {},
   "outputs": [
    {
     "name": "stdout",
     "output_type": "stream",
     "text": [
      "['2021-05', '2021-06']\n"
     ]
    }
   ],
   "source": [
    "print(os.listdir(path))"
   ]
  },
  {
   "cell_type": "code",
   "execution_count": 8,
   "metadata": {},
   "outputs": [
    {
     "name": "stdout",
     "output_type": "stream",
     "text": [
      "Roots = D:\\ios raw data\n"
     ]
    }
   ],
   "source": [
    "#print the root directory\n",
    "roots = next(os.walk(path))[0]\n",
    "print(\"Roots = %s\" % roots)"
   ]
  },
  {
   "cell_type": "code",
   "execution_count": 10,
   "metadata": {},
   "outputs": [
    {
     "name": "stdout",
     "output_type": "stream",
     "text": [
      "Directory = ['2021-05', '2021-06']\n"
     ]
    }
   ],
   "source": [
    "#print the directory as first list in iterator\n",
    "directories = next(os.walk(path))[1]\n",
    "print(\"Directory = %s\" % directories)"
   ]
  },
  {
   "cell_type": "code",
   "execution_count": 12,
   "metadata": {},
   "outputs": [
    {
     "name": "stdout",
     "output_type": "stream",
     "text": [
      "[]\n"
     ]
    }
   ],
   "source": [
    "#print the files name as the second on list iterator\n",
    "files = next(os.walk(path))[2]\n",
    "print(files)"
   ]
  },
  {
   "cell_type": "code",
   "execution_count": 7,
   "metadata": {},
   "outputs": [
    {
     "name": "stdout",
     "output_type": "stream",
     "text": [
      "top_funnel_ios_2021-05-19.csv\n",
      "top_funnel_ios_2021-05-19.csv\n",
      "top_funnel_ios_2021-05-19.csv\n"
     ]
    }
   ],
   "source": [
    "for roots, dir, files in os.walk(path):\n",
    "    #for file in files:\n",
    "    print(file)"
   ]
  },
  {
   "cell_type": "code",
   "execution_count": 48,
   "metadata": {},
   "outputs": [
    {
     "name": "stdout",
     "output_type": "stream",
     "text": [
      "<class 'str'>\n",
      "2021-03-01\n",
      "<class 'str'>\n",
      "2021-03-02\n",
      "<class 'str'>\n",
      "2021-03-03\n",
      "<class 'str'>\n",
      "2021-03-04\n",
      "<class 'str'>\n",
      "2021-03-05\n",
      "<class 'str'>\n",
      "2021-03-06\n",
      "<class 'str'>\n",
      "2021-03-07\n",
      "<class 'str'>\n",
      "2021-03-08\n",
      "<class 'str'>\n",
      "2021-03-09\n",
      "<class 'str'>\n",
      "2021-03-10\n",
      "<class 'str'>\n",
      "2021-03-11\n",
      "<class 'str'>\n",
      "2021-03-12\n",
      "<class 'str'>\n",
      "2021-03-13\n",
      "<class 'str'>\n",
      "2021-03-14\n",
      "<class 'str'>\n",
      "2021-03-15\n",
      "<class 'str'>\n",
      "2021-03-16\n",
      "<class 'str'>\n",
      "2021-03-17\n",
      "<class 'str'>\n",
      "2021-03-18\n",
      "<class 'str'>\n",
      "2021-03-19\n",
      "<class 'str'>\n",
      "2021-03-20\n",
      "<class 'str'>\n",
      "2021-03-21\n",
      "<class 'str'>\n",
      "2021-03-22\n",
      "<class 'str'>\n",
      "2021-03-23\n",
      "<class 'str'>\n",
      "2021-03-24\n",
      "<class 'str'>\n",
      "2021-03-25\n",
      "<class 'str'>\n",
      "2021-03-26\n",
      "<class 'str'>\n",
      "2021-03-27\n",
      "<class 'str'>\n",
      "2021-03-28\n",
      "<class 'str'>\n",
      "2021-03-29\n",
      "<class 'str'>\n",
      "2021-03-30\n",
      "<class 'str'>\n",
      "2021-05-19\n",
      "<class 'str'>\n",
      "2021-03-03\n",
      "<class 'str'>\n",
      "2021-03-04\n",
      "<class 'str'>\n",
      "2021-03-05\n",
      "<class 'str'>\n",
      "2021-03-06\n",
      "<class 'str'>\n",
      "2021-03-07\n",
      "<class 'str'>\n",
      "2021-03-08\n",
      "<class 'str'>\n",
      "2021-03-09\n",
      "<class 'str'>\n",
      "2021-03-10\n",
      "<class 'str'>\n",
      "2021-03-11\n",
      "<class 'str'>\n",
      "2021-03-12\n",
      "<class 'str'>\n",
      "2021-03-13\n",
      "<class 'str'>\n",
      "2021-03-14\n",
      "<class 'str'>\n",
      "2021-03-15\n",
      "<class 'str'>\n",
      "2021-03-16\n",
      "<class 'str'>\n",
      "2021-03-17\n",
      "<class 'str'>\n",
      "2021-03-18\n",
      "<class 'str'>\n",
      "2021-03-19\n",
      "<class 'str'>\n",
      "2021-03-20\n",
      "<class 'str'>\n",
      "2021-03-21\n",
      "<class 'str'>\n",
      "2021-03-22\n",
      "<class 'str'>\n",
      "2021-03-23\n",
      "<class 'str'>\n",
      "2021-03-24\n",
      "<class 'str'>\n",
      "2021-06-01\n",
      "<class 'str'>\n",
      "2021-06-02\n",
      "<class 'str'>\n",
      "2021-06-19\n",
      "<class 'str'>\n",
      "2021-06-25\n",
      "<class 'str'>\n",
      "2021-06-26\n",
      "<class 'str'>\n",
      "2021-06-27\n",
      "<class 'str'>\n",
      "2021-06-28\n",
      "<class 'str'>\n",
      "2021-06-29\n",
      "<class 'str'>\n",
      "2021-06-30\n"
     ]
    }
   ],
   "source": [
    "for (root,dirs,files) in os.walk('D:\\ios raw data', topdown=True):\n",
    "    for file in files:\n",
    "        substring=file[-14:-4]\n",
    "        print(type(file))\n",
    "        #print(file)  \n",
    "        print(substring)"
   ]
  },
  {
   "cell_type": "code",
   "execution_count": 16,
   "metadata": {},
   "outputs": [
    {
     "name": "stdout",
     "output_type": "stream",
     "text": [
      "['2021-05', '2021-06']\n"
     ]
    }
   ],
   "source": [
    "dir_list = os.listdir(path)\n",
    "print(dir_list)"
   ]
  },
  {
   "cell_type": "code",
   "execution_count": 27,
   "metadata": {},
   "outputs": [
    {
     "ename": "SyntaxError",
     "evalue": "invalid syntax (<ipython-input-27-57a0e05ac69d>, line 1)",
     "output_type": "error",
     "traceback": [
      "\u001b[1;36m  File \u001b[1;32m\"<ipython-input-27-57a0e05ac69d>\"\u001b[1;36m, line \u001b[1;32m1\u001b[0m\n\u001b[1;33m    for os.walk(path) as files:\u001b[0m\n\u001b[1;37m                      ^\u001b[0m\n\u001b[1;31mSyntaxError\u001b[0m\u001b[1;31m:\u001b[0m invalid syntax\n"
     ]
    }
   ],
   "source": [
    "for os.walk(path):\n",
    "    for file in files:\n",
    "        print(file)"
   ]
  },
  {
   "cell_type": "code",
   "execution_count": 33,
   "metadata": {},
   "outputs": [],
   "source": [
    "import glob"
   ]
  },
  {
   "cell_type": "code",
   "execution_count": 34,
   "metadata": {},
   "outputs": [],
   "source": [
    " os.chdir(path)"
   ]
  },
  {
   "cell_type": "code",
   "execution_count": 35,
   "metadata": {},
   "outputs": [],
   "source": [
    "for file in glob.glob(\"*.csv\"):\n",
    "    print(file)"
   ]
  },
  {
   "cell_type": "code",
   "execution_count": 41,
   "metadata": {},
   "outputs": [
    {
     "name": "stdout",
     "output_type": "stream",
     "text": [
      "D:\\ios raw data\\2021-05\\top_funnel_ios_2021-03-01.csv\n",
      "top_funnel_ios_2021-03-01.csv\n",
      "D:\\ios raw data\\2021-05\\top_funnel_ios_2021-03-02.csv\n",
      "top_funnel_ios_2021-03-02.csv\n",
      "D:\\ios raw data\\2021-05\\top_funnel_ios_2021-03-03.csv\n",
      "top_funnel_ios_2021-03-03.csv\n",
      "D:\\ios raw data\\2021-05\\top_funnel_ios_2021-03-04.csv\n",
      "top_funnel_ios_2021-03-04.csv\n",
      "D:\\ios raw data\\2021-05\\top_funnel_ios_2021-03-05.csv\n",
      "top_funnel_ios_2021-03-05.csv\n",
      "D:\\ios raw data\\2021-05\\top_funnel_ios_2021-03-06.csv\n",
      "top_funnel_ios_2021-03-06.csv\n",
      "D:\\ios raw data\\2021-05\\top_funnel_ios_2021-03-07.csv\n",
      "top_funnel_ios_2021-03-07.csv\n",
      "D:\\ios raw data\\2021-05\\top_funnel_ios_2021-03-08.csv\n",
      "top_funnel_ios_2021-03-08.csv\n",
      "D:\\ios raw data\\2021-05\\top_funnel_ios_2021-03-09.csv\n",
      "top_funnel_ios_2021-03-09.csv\n",
      "D:\\ios raw data\\2021-05\\top_funnel_ios_2021-03-10.csv\n",
      "top_funnel_ios_2021-03-10.csv\n",
      "D:\\ios raw data\\2021-05\\top_funnel_ios_2021-03-11.csv\n",
      "top_funnel_ios_2021-03-11.csv\n",
      "D:\\ios raw data\\2021-05\\top_funnel_ios_2021-03-12.csv\n",
      "top_funnel_ios_2021-03-12.csv\n",
      "D:\\ios raw data\\2021-05\\top_funnel_ios_2021-03-13.csv\n",
      "top_funnel_ios_2021-03-13.csv\n",
      "D:\\ios raw data\\2021-05\\top_funnel_ios_2021-03-14.csv\n",
      "top_funnel_ios_2021-03-14.csv\n",
      "D:\\ios raw data\\2021-05\\top_funnel_ios_2021-03-15.csv\n",
      "top_funnel_ios_2021-03-15.csv\n",
      "D:\\ios raw data\\2021-05\\top_funnel_ios_2021-03-16.csv\n",
      "top_funnel_ios_2021-03-16.csv\n",
      "D:\\ios raw data\\2021-05\\top_funnel_ios_2021-03-17.csv\n",
      "top_funnel_ios_2021-03-17.csv\n",
      "D:\\ios raw data\\2021-05\\top_funnel_ios_2021-03-18.csv\n",
      "top_funnel_ios_2021-03-18.csv\n",
      "D:\\ios raw data\\2021-05\\top_funnel_ios_2021-03-19.csv\n",
      "top_funnel_ios_2021-03-19.csv\n",
      "D:\\ios raw data\\2021-05\\top_funnel_ios_2021-03-20.csv\n",
      "top_funnel_ios_2021-03-20.csv\n",
      "D:\\ios raw data\\2021-05\\top_funnel_ios_2021-03-21.csv\n",
      "top_funnel_ios_2021-03-21.csv\n",
      "D:\\ios raw data\\2021-05\\top_funnel_ios_2021-03-22.csv\n",
      "top_funnel_ios_2021-03-22.csv\n",
      "D:\\ios raw data\\2021-05\\top_funnel_ios_2021-03-23.csv\n",
      "top_funnel_ios_2021-03-23.csv\n",
      "D:\\ios raw data\\2021-05\\top_funnel_ios_2021-03-24.csv\n",
      "top_funnel_ios_2021-03-24.csv\n",
      "D:\\ios raw data\\2021-05\\top_funnel_ios_2021-03-25.csv\n",
      "top_funnel_ios_2021-03-25.csv\n",
      "D:\\ios raw data\\2021-05\\top_funnel_ios_2021-03-26.csv\n",
      "top_funnel_ios_2021-03-26.csv\n",
      "D:\\ios raw data\\2021-05\\top_funnel_ios_2021-03-27.csv\n",
      "top_funnel_ios_2021-03-27.csv\n",
      "D:\\ios raw data\\2021-05\\top_funnel_ios_2021-03-28.csv\n",
      "top_funnel_ios_2021-03-28.csv\n",
      "D:\\ios raw data\\2021-05\\top_funnel_ios_2021-03-29.csv\n",
      "top_funnel_ios_2021-03-29.csv\n",
      "D:\\ios raw data\\2021-05\\top_funnel_ios_2021-03-30.csv\n",
      "top_funnel_ios_2021-03-30.csv\n",
      "D:\\ios raw data\\2021-05\\top_funnel_ios_2021-05-19.csv\n",
      "top_funnel_ios_2021-05-19.csv\n"
     ]
    }
   ],
   "source": [
    "import fnmatch\n",
    "pattern = '*.csv'\n",
    " \n",
    "for root, dirs, files in os.walk(path):\n",
    "    for filename in fnmatch.filter(files, pattern):\n",
    "        print( os.path.join(root, filename))\n",
    "        print(filename)"
   ]
  },
  {
   "cell_type": "code",
   "execution_count": 38,
   "metadata": {},
   "outputs": [
    {
     "ename": "TypeError",
     "evalue": "'module' object is not callable",
     "output_type": "error",
     "traceback": [
      "\u001b[1;31m---------------------------------------------------------------------------\u001b[0m",
      "\u001b[1;31mTypeError\u001b[0m                                 Traceback (most recent call last)",
      "\u001b[1;32m<ipython-input-38-20c71cde3517>\u001b[0m in \u001b[0;36m<module>\u001b[1;34m\u001b[0m\n\u001b[0;32m      4\u001b[0m \u001b[1;32mfor\u001b[0m \u001b[0mpath\u001b[0m\u001b[1;33m,\u001b[0m \u001b[0msubdirs\u001b[0m\u001b[1;33m,\u001b[0m \u001b[0mfiles\u001b[0m \u001b[1;32min\u001b[0m \u001b[0mos\u001b[0m\u001b[1;33m.\u001b[0m\u001b[0mwalk\u001b[0m\u001b[1;33m(\u001b[0m\u001b[0mroot\u001b[0m\u001b[1;33m)\u001b[0m\u001b[1;33m:\u001b[0m\u001b[1;33m\u001b[0m\u001b[1;33m\u001b[0m\u001b[0m\n\u001b[0;32m      5\u001b[0m     \u001b[1;32mfor\u001b[0m \u001b[0mname\u001b[0m \u001b[1;32min\u001b[0m \u001b[0mfiles\u001b[0m\u001b[1;33m:\u001b[0m\u001b[1;33m\u001b[0m\u001b[1;33m\u001b[0m\u001b[0m\n\u001b[1;32m----> 6\u001b[1;33m         \u001b[1;32mif\u001b[0m \u001b[0mfnmatch\u001b[0m\u001b[1;33m(\u001b[0m\u001b[0mname\u001b[0m\u001b[1;33m,\u001b[0m \u001b[0mpattern\u001b[0m\u001b[1;33m)\u001b[0m\u001b[1;33m:\u001b[0m\u001b[1;33m\u001b[0m\u001b[1;33m\u001b[0m\u001b[0m\n\u001b[0m\u001b[0;32m      7\u001b[0m             \u001b[0mprint\u001b[0m\u001b[1;33m(\u001b[0m\u001b[0mos\u001b[0m\u001b[1;33m.\u001b[0m\u001b[0mpath\u001b[0m\u001b[1;33m.\u001b[0m\u001b[0mjoin\u001b[0m\u001b[1;33m(\u001b[0m\u001b[0mpath\u001b[0m\u001b[1;33m,\u001b[0m \u001b[0mname\u001b[0m\u001b[1;33m)\u001b[0m\u001b[1;33m)\u001b[0m\u001b[1;33m\u001b[0m\u001b[1;33m\u001b[0m\u001b[0m\n",
      "\u001b[1;31mTypeError\u001b[0m: 'module' object is not callable"
     ]
    }
   ],
   "source": [
    "import fnmatch\n",
    "root = 'D:\\ios raw data'\n",
    "pattern = \"*.csv\"\n",
    "for path, subdirs, files in os.walk(root):\n",
    "    for name in files:\n",
    "        if fnmatch(name, pattern):\n",
    "            print(os.path.join(path, name))"
   ]
  },
  {
   "cell_type": "code",
   "execution_count": null,
   "metadata": {},
   "outputs": [],
   "source": []
  }
 ],
 "metadata": {
  "kernelspec": {
   "display_name": "Python 3",
   "language": "python",
   "name": "python3"
  },
  "language_info": {
   "codemirror_mode": {
    "name": "ipython",
    "version": 3
   },
   "file_extension": ".py",
   "mimetype": "text/x-python",
   "name": "python",
   "nbconvert_exporter": "python",
   "pygments_lexer": "ipython3",
   "version": "3.8.5"
  }
 },
 "nbformat": 4,
 "nbformat_minor": 4
}
