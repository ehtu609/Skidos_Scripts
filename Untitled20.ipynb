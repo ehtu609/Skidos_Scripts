{
 "cells": [
  {
   "cell_type": "code",
   "execution_count": 24,
   "metadata": {},
   "outputs": [
    {
     "ename": "SyntaxError",
     "evalue": "invalid syntax (<ipython-input-24-2213eda15e05>, line 36)",
     "output_type": "error",
     "traceback": [
      "\u001b[1;36m  File \u001b[1;32m\"<ipython-input-24-2213eda15e05>\"\u001b[1;36m, line \u001b[1;32m36\u001b[0m\n\u001b[1;33m    server.sendmail(from_address, reciever_email, message.format(Reports name=Reports name))\u001b[0m\n\u001b[1;37m                                                                         ^\u001b[0m\n\u001b[1;31mSyntaxError\u001b[0m\u001b[1;31m:\u001b[0m invalid syntax\n"
     ]
    }
   ],
   "source": [
    "import pandas as pd\n",
    "from pandas import DataFrame\n",
    "import smtplib, ssl\n",
    "import email\n",
    "from email_contacts import my_email, my_second_email, PASSWORD\n",
    "\n",
    "message = \"\"\"Subject: Your {Reports name} are not Updated\n",
    "\n",
    "Redflag Alert your reports name {Reports name} seems to be not recieving the raw data\"\"\"\n",
    "\n",
    "from_address = my_email\n",
    "password = PASSWORD\n",
    "#input(\"Type your password and press enter: \")\n",
    "\n",
    "df=pd.read_csv(r'D:\\Data\\Redflag_reports\\redflag_reports.csv')\n",
    "for index, row in df.iterrows():\n",
    "        #print (row[\"Reports name\"], row[\"Status\"]\n",
    "    if row[\"Status\"]==\"Not Updated\":\n",
    "        #print(\"Sent an email\")\n",
    "        li=[my_second_email, \"ahmedehtesham609@gmail.com\"]\n",
    "        for reciever_email in li:\n",
    "\n",
    "            smtp_server = \"smtp.gmail.com\"\n",
    "            port = 587  # For starttls\n",
    "\n",
    "            # Create a secure Secure Socket Layer context\n",
    "            context = ssl.create_default_context()\n",
    "\n",
    "            try:\n",
    "                server = smtplib.SMTP(smtp_server,port)\n",
    "                server.starttls(context=context) # Secure the connection\n",
    "                server.login(from_address, password)\n",
    "                # TODO: Send email here\n",
    "                #server.sendmail(from_email, receiver_email, message)\n",
    "                server.sendmail(from_address, reciever_email, message)\n",
    "\n",
    "                #server.sendmail(\n",
    "                 #           from_address,\n",
    "                  #          email,\n",
    "                   #         message.format(name=name,reportsname=reportsname),\n",
    "                    #    )\n",
    "\n",
    "            except Exception as e:\n",
    "                # Print any error messages to stdout\n",
    "                print(e)\n",
    "            finally:\n",
    "                server.quit()\n",
    "else:\n",
    "    pass\n",
    "    \n"
   ]
  },
  {
   "cell_type": "code",
   "execution_count": null,
   "metadata": {},
   "outputs": [],
   "source": []
  }
 ],
 "metadata": {
  "kernelspec": {
   "display_name": "Python 3",
   "language": "python",
   "name": "python3"
  },
  "language_info": {
   "codemirror_mode": {
    "name": "ipython",
    "version": 3
   },
   "file_extension": ".py",
   "mimetype": "text/x-python",
   "name": "python",
   "nbconvert_exporter": "python",
   "pygments_lexer": "ipython3",
   "version": "3.8.5"
  }
 },
 "nbformat": 4,
 "nbformat_minor": 4
}
