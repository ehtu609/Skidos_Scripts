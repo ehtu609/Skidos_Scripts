{
 "cells": [
  {
   "cell_type": "code",
   "execution_count": 6,
   "metadata": {},
   "outputs": [],
   "source": [
    "from config import path_to_key, key_id, issuer_id, EXPIRATION_TIME\n",
    "from af_private_key import get_private_key\n",
    "PRIVATE_KEY=get_private_key(path_to_key)\n",
    "import requests, time, json \n",
    "from authlib.jose import jwt\n",
    "import io\n",
    "import pandas as pd\n",
    "from pandas.io.json import json_normalize"
   ]
  },
  {
   "cell_type": "code",
   "execution_count": 7,
   "metadata": {},
   "outputs": [],
   "source": [
    "header = {\n",
    "    \"alg\": \"ES256\",\n",
    "    \"kid\": key_id,\n",
    "    \"typ\": \"JWT\"\n",
    "}\n",
    "\n",
    "payload = {\n",
    "    \"iss\": issuer_id,\n",
    "    \"exp\": EXPIRATION_TIME,\n",
    "    \"aud\": \"appstoreconnect-v1\"\n",
    "}"
   ]
  },
  {
   "cell_type": "code",
   "execution_count": 9,
   "metadata": {},
   "outputs": [],
   "source": [
    "token = jwt.encode(header, payload, PRIVATE_KEY)\n",
    "\n",
    "JWT = 'Bearer ' + token.decode()\n",
    "URL = 'https://api.appstoreconnect.apple.com/v1/apps'\n",
    "HEAD = {'Authorization': JWT}\n",
    "\n",
    "r = requests.get(URL, params={'limit': 200}, headers=HEAD)\n",
    "\n",
    "x=r.json()"
   ]
  },
  {
   "cell_type": "code",
   "execution_count": 10,
   "metadata": {},
   "outputs": [
    {
     "data": {
      "text/plain": [
       "{'errors': [{'status': '401',\n",
       "   'code': 'NOT_AUTHORIZED',\n",
       "   'title': 'Authentication credentials are missing or invalid.',\n",
       "   'detail': 'Provide a properly configured and signed bearer token, and make sure that it has not expired. Learn more about Generating Tokens for API Requests https://developer.apple.com/go/?id=api-generating-tokens'}]}"
      ]
     },
     "execution_count": 10,
     "metadata": {},
     "output_type": "execute_result"
    }
   ],
   "source": [
    "x"
   ]
  },
  {
   "cell_type": "code",
   "execution_count": null,
   "metadata": {},
   "outputs": [],
   "source": []
  }
 ],
 "metadata": {
  "kernelspec": {
   "display_name": "Python 3",
   "language": "python",
   "name": "python3"
  },
  "language_info": {
   "codemirror_mode": {
    "name": "ipython",
    "version": 3
   },
   "file_extension": ".py",
   "mimetype": "text/x-python",
   "name": "python",
   "nbconvert_exporter": "python",
   "pygments_lexer": "ipython3",
   "version": "3.8.5"
  }
 },
 "nbformat": 4,
 "nbformat_minor": 4
}
