{
 "cells": [
  {
   "cell_type": "code",
   "execution_count": 2,
   "metadata": {},
   "outputs": [],
   "source": [
    "from config import path_to_key, key_id\n",
    "from af_private_key import get_private_key\n",
    "PRIVATE_KEY=get_private_key(path_to_key)"
   ]
  },
  {
   "cell_type": "code",
   "execution_count": 3,
   "metadata": {},
   "outputs": [
    {
     "ename": "NameError",
     "evalue": "name 'KEY_ID' is not defined",
     "output_type": "error",
     "traceback": [
      "\u001b[1;31m---------------------------------------------------------------------------\u001b[0m",
      "\u001b[1;31mNameError\u001b[0m                                 Traceback (most recent call last)",
      "\u001b[1;32m<ipython-input-3-2b474ee12d33>\u001b[0m in \u001b[0;36m<module>\u001b[1;34m\u001b[0m\n\u001b[0;32m      1\u001b[0m header = {\n\u001b[0;32m      2\u001b[0m     \u001b[1;34m\"alg\"\u001b[0m\u001b[1;33m:\u001b[0m \u001b[1;34m\"ES256\"\u001b[0m\u001b[1;33m,\u001b[0m\u001b[1;33m\u001b[0m\u001b[1;33m\u001b[0m\u001b[0m\n\u001b[1;32m----> 3\u001b[1;33m     \u001b[1;34m\"kid\"\u001b[0m\u001b[1;33m:\u001b[0m \u001b[0mKEY_ID\u001b[0m\u001b[1;33m,\u001b[0m\u001b[1;33m\u001b[0m\u001b[1;33m\u001b[0m\u001b[0m\n\u001b[0m\u001b[0;32m      4\u001b[0m     \u001b[1;34m\"typ\"\u001b[0m\u001b[1;33m:\u001b[0m \u001b[1;34m\"JWT\"\u001b[0m\u001b[1;33m\u001b[0m\u001b[1;33m\u001b[0m\u001b[0m\n\u001b[0;32m      5\u001b[0m }\n",
      "\u001b[1;31mNameError\u001b[0m: name 'KEY_ID' is not defined"
     ]
    }
   ],
   "source": [
    "header = {\n",
    "    \"alg\": \"ES256\",\n",
    "    \"kid\": key_id,\n",
    "    \"typ\": \"JWT\"\n",
    "}\n",
    "\n",
    "payload = {\n",
    "    \"iss\": issuer_id,\n",
    "    \"exp\": EXPIRATION_TIME,\n",
    "    \"aud\": \"appstoreconnect-v1\"\n",
    "}"
   ]
  },
  {
   "cell_type": "code",
   "execution_count": null,
   "metadata": {},
   "outputs": [],
   "source": []
  }
 ],
 "metadata": {
  "kernelspec": {
   "display_name": "Python 3",
   "language": "python",
   "name": "python3"
  },
  "language_info": {
   "codemirror_mode": {
    "name": "ipython",
    "version": 3
   },
   "file_extension": ".py",
   "mimetype": "text/x-python",
   "name": "python",
   "nbconvert_exporter": "python",
   "pygments_lexer": "ipython3",
   "version": "3.8.5"
  }
 },
 "nbformat": 4,
 "nbformat_minor": 4
}
