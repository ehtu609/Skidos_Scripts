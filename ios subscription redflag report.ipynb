{
 "cells": [
  {
   "cell_type": "code",
   "execution_count": 3,
   "metadata": {},
   "outputs": [],
   "source": [
    "import os\n",
    "import glob"
   ]
  },
  {
   "cell_type": "code",
   "execution_count": 4,
   "metadata": {},
   "outputs": [],
   "source": [
    "import pandas as pd"
   ]
  },
  {
   "cell_type": "code",
   "execution_count": 5,
   "metadata": {},
   "outputs": [],
   "source": [
    "from pandas import DataFrame"
   ]
  },
  {
   "cell_type": "code",
   "execution_count": 6,
   "metadata": {},
   "outputs": [],
   "source": [
    "from datetime import datetime"
   ]
  },
  {
   "cell_type": "code",
   "execution_count": 7,
   "metadata": {},
   "outputs": [],
   "source": [
    "import re"
   ]
  },
  {
   "cell_type": "code",
   "execution_count": 14,
   "metadata": {},
   "outputs": [],
   "source": [
    "rx = '(Subscription_Event_85875515_.*V1_2.txt$)' \n",
    "\n",
    "for (root,dirs,files) in os.walk(r'C:\\Users\\Lenovo\\Skidos_Scripts\\othermonthlyreports', topdown=True):\n",
    "    for file in files:\n",
    "        res = re.match(rx, file)\n",
    "        \n",
    "        if res:\n",
    "            if res.group(1):\n",
    "                substring=file[-17:-9]\n",
    "                dated_substring=datetime.strptime(substring, '%Y%m%d')\n",
    "                dated_substring=dated_substring.date()\n",
    "                #print(dated_substring)\n",
    "                #print(file)\n",
    "            else:\n",
    "                continue\n",
    "        else:\n",
    "            continue\n",
    "        \n",
    "        #substring=file[-17:-9]\n",
    "        #dated_substring=datetime.strptime(substring, '%Y%m%d')\n",
    "        #dated_substring=dated_substring.date()\n",
    "        current_date=datetime.today()\n",
    "        current_date=current_date.date()\n",
    "        #print(dated_substring)\n",
    "        \n",
    "        difference_in_dates=current_date - dated_substring\n",
    "        difference_in_days=difference_in_dates.days\n",
    "        \n",
    "        df=pd.read_csv(r'D:\\Data\\Redflag_reports\\test21.csv')\n",
    "       \n",
    "        if \"CVBR2\" in df[\"Business Rule no.\"].unique():\n",
    "            pass\n",
    "                            \n",
    "        else:\n",
    "             df=df.append({'Business Rule no.':\"CVBR2\", 'Reports name': \"ios subscription\", 'Status':\"Updated\",'Reports date':dated_substring,'Current Date':current_date}, ignore_index=True)\n",
    "                       \n",
    "        if (difference_in_days<=2):\n",
    "            df.loc[df['Business Rule no.'] == \"CVBR2\", 'Status'] = \"Updated\"\n",
    "            df.loc[df['Business Rule no.'] == \"CVBR2\", 'Reports date'] = dated_substring \n",
    "            df.loc[df['Business Rule no.'] == \"CVBR2\", 'Current Date'] = current_date\n",
    "        else:\n",
    "            df.loc[df['Business Rule no.'] == \"CVBR2\", 'Status'] = \"Not Updated\"\n",
    "            df.loc[df['Business Rule no.'] == \"CVBR2\", 'Reports date'] = dated_substring \n",
    "            df.loc[df['Business Rule no.'] == \"CVBR2\", 'Current Date'] = current_date\n",
    "            \"\"\"df=pd.read_csv(r'D:\\Data\\Redflag_reports\\test21.csv')            \n",
    "            df.loc[df['Business Rule no.'] == \"CVBR2\", 'Status'] = \"Not Updated\"\n",
    "            #df.loc[df['Business Rule no.'] == \"CVBR2\", 'Reports date'] = dated_substring\"\"\"\n",
    "        \n",
    "    #df.loc[df['Business Rule no.'] == \"CVBR2\", 'Reports date'] = dated_substring \n",
    "    #df.loc[df['Business Rule no.'] == \"CVBR2\", 'Current Date'] = current_date\n",
    "    df.to_csv(r'D:\\Data\\Redflag_reports\\test21.csv', index=False)\n"
   ]
  },
  {
   "cell_type": "markdown",
   "metadata": {},
   "source": [
    "mod_df"
   ]
  },
  {
   "cell_type": "code",
   "execution_count": 18,
   "metadata": {},
   "outputs": [
    {
     "data": {
      "text/html": [
       "<div>\n",
       "<style scoped>\n",
       "    .dataframe tbody tr th:only-of-type {\n",
       "        vertical-align: middle;\n",
       "    }\n",
       "\n",
       "    .dataframe tbody tr th {\n",
       "        vertical-align: top;\n",
       "    }\n",
       "\n",
       "    .dataframe thead th {\n",
       "        text-align: right;\n",
       "    }\n",
       "</style>\n",
       "<table border=\"1\" class=\"dataframe\">\n",
       "  <thead>\n",
       "    <tr style=\"text-align: right;\">\n",
       "      <th></th>\n",
       "      <th>Business Rule no.</th>\n",
       "      <th>Reports name</th>\n",
       "      <th>Status</th>\n",
       "      <th>Reports date</th>\n",
       "      <th>Current Date</th>\n",
       "    </tr>\n",
       "  </thead>\n",
       "  <tbody>\n",
       "    <tr>\n",
       "      <th>0</th>\n",
       "      <td>CVBR1</td>\n",
       "      <td>AppFollow ios top funnel</td>\n",
       "      <td>Not Updated</td>\n",
       "      <td>2021-05-19</td>\n",
       "      <td>2021-05-21</td>\n",
       "    </tr>\n",
       "    <tr>\n",
       "      <th>1</th>\n",
       "      <td>CVBR2</td>\n",
       "      <td>ios subscription</td>\n",
       "      <td>Updated</td>\n",
       "      <td>2021-05-19</td>\n",
       "      <td>2021-05-21</td>\n",
       "    </tr>\n",
       "  </tbody>\n",
       "</table>\n",
       "</div>"
      ],
      "text/plain": [
       "  Business Rule no.              Reports name       Status Reports date  \\\n",
       "0             CVBR1  AppFollow ios top funnel  Not Updated   2021-05-19   \n",
       "1             CVBR2          ios subscription      Updated   2021-05-19   \n",
       "\n",
       "  Current Date  \n",
       "0   2021-05-21  \n",
       "1   2021-05-21  "
      ]
     },
     "execution_count": 18,
     "metadata": {},
     "output_type": "execute_result"
    }
   ],
   "source": [
    "df"
   ]
  },
  {
   "cell_type": "code",
   "execution_count": 66,
   "metadata": {},
   "outputs": [
    {
     "data": {
      "text/html": [
       "<div>\n",
       "<style scoped>\n",
       "    .dataframe tbody tr th:only-of-type {\n",
       "        vertical-align: middle;\n",
       "    }\n",
       "\n",
       "    .dataframe tbody tr th {\n",
       "        vertical-align: top;\n",
       "    }\n",
       "\n",
       "    .dataframe thead th {\n",
       "        text-align: right;\n",
       "    }\n",
       "</style>\n",
       "<table border=\"1\" class=\"dataframe\">\n",
       "  <thead>\n",
       "    <tr style=\"text-align: right;\">\n",
       "      <th></th>\n",
       "      <th>Business Rule no.</th>\n",
       "      <th>Reports name</th>\n",
       "      <th>Status</th>\n",
       "      <th>Reports date</th>\n",
       "      <th>Current Date</th>\n",
       "    </tr>\n",
       "  </thead>\n",
       "  <tbody>\n",
       "    <tr>\n",
       "      <th>0</th>\n",
       "      <td>CVBR1</td>\n",
       "      <td>AppFollow ios top funnel</td>\n",
       "      <td>Not Updated</td>\n",
       "      <td>18-05-2021</td>\n",
       "      <td>20-05-2021</td>\n",
       "    </tr>\n",
       "    <tr>\n",
       "      <th>1</th>\n",
       "      <td>CVBR2</td>\n",
       "      <td>ios subscription</td>\n",
       "      <td>Updated</td>\n",
       "      <td>2021-05-18</td>\n",
       "      <td>2021-05-20</td>\n",
       "    </tr>\n",
       "  </tbody>\n",
       "</table>\n",
       "</div>"
      ],
      "text/plain": [
       "  Business Rule no.              Reports name       Status Reports date  \\\n",
       "0             CVBR1  AppFollow ios top funnel  Not Updated   18-05-2021   \n",
       "1             CVBR2          ios subscription      Updated   2021-05-18   \n",
       "\n",
       "  Current Date  \n",
       "0   20-05-2021  \n",
       "1   2021-05-20  "
      ]
     },
     "execution_count": 66,
     "metadata": {},
     "output_type": "execute_result"
    }
   ],
   "source": [
    "df"
   ]
  },
  {
   "cell_type": "code",
   "execution_count": 64,
   "metadata": {},
   "outputs": [
    {
     "data": {
      "text/html": [
       "<div>\n",
       "<style scoped>\n",
       "    .dataframe tbody tr th:only-of-type {\n",
       "        vertical-align: middle;\n",
       "    }\n",
       "\n",
       "    .dataframe tbody tr th {\n",
       "        vertical-align: top;\n",
       "    }\n",
       "\n",
       "    .dataframe thead th {\n",
       "        text-align: right;\n",
       "    }\n",
       "</style>\n",
       "<table border=\"1\" class=\"dataframe\">\n",
       "  <thead>\n",
       "    <tr style=\"text-align: right;\">\n",
       "      <th></th>\n",
       "      <th>Business Rule no.</th>\n",
       "      <th>Reports name</th>\n",
       "      <th>Status</th>\n",
       "      <th>Reports date</th>\n",
       "      <th>Current Date</th>\n",
       "    </tr>\n",
       "  </thead>\n",
       "  <tbody>\n",
       "    <tr>\n",
       "      <th>0</th>\n",
       "      <td>CVBR1</td>\n",
       "      <td>AppFollow ios top funnel</td>\n",
       "      <td>Not Updated</td>\n",
       "      <td>18-05-2021</td>\n",
       "      <td>20-05-2021</td>\n",
       "    </tr>\n",
       "    <tr>\n",
       "      <th>1</th>\n",
       "      <td>CVBR2</td>\n",
       "      <td>ios subscription</td>\n",
       "      <td>Not Updated</td>\n",
       "      <td>2021-05-17</td>\n",
       "      <td>2021-05-20</td>\n",
       "    </tr>\n",
       "    <tr>\n",
       "      <th>2</th>\n",
       "      <td>CVBR2</td>\n",
       "      <td>ios subscription</td>\n",
       "      <td>Not Updated</td>\n",
       "      <td>2021-05-17</td>\n",
       "      <td>2021-05-20</td>\n",
       "    </tr>\n",
       "  </tbody>\n",
       "</table>\n",
       "</div>"
      ],
      "text/plain": [
       "  Business Rule no.              Reports name       Status Reports date  \\\n",
       "0             CVBR1  AppFollow ios top funnel  Not Updated   18-05-2021   \n",
       "1             CVBR2          ios subscription  Not Updated   2021-05-17   \n",
       "2             CVBR2          ios subscription  Not Updated   2021-05-17   \n",
       "\n",
       "  Current Date  \n",
       "0   20-05-2021  \n",
       "1   2021-05-20  \n",
       "2   2021-05-20  "
      ]
     },
     "execution_count": 64,
     "metadata": {},
     "output_type": "execute_result"
    }
   ],
   "source": [
    "df"
   ]
  },
  {
   "cell_type": "code",
   "execution_count": 47,
   "metadata": {},
   "outputs": [
    {
     "data": {
      "text/html": [
       "<div>\n",
       "<style scoped>\n",
       "    .dataframe tbody tr th:only-of-type {\n",
       "        vertical-align: middle;\n",
       "    }\n",
       "\n",
       "    .dataframe tbody tr th {\n",
       "        vertical-align: top;\n",
       "    }\n",
       "\n",
       "    .dataframe thead th {\n",
       "        text-align: right;\n",
       "    }\n",
       "</style>\n",
       "<table border=\"1\" class=\"dataframe\">\n",
       "  <thead>\n",
       "    <tr style=\"text-align: right;\">\n",
       "      <th></th>\n",
       "      <th>Unnamed: 0</th>\n",
       "      <th>Business Rule no.</th>\n",
       "      <th>Reports name</th>\n",
       "      <th>Status</th>\n",
       "      <th>Reports date</th>\n",
       "      <th>Current Date</th>\n",
       "    </tr>\n",
       "  </thead>\n",
       "  <tbody>\n",
       "    <tr>\n",
       "      <th>0</th>\n",
       "      <td>0</td>\n",
       "      <td>CVBR1</td>\n",
       "      <td>AppFollow ios top funnel</td>\n",
       "      <td>Not Updated</td>\n",
       "      <td>18-05-2021</td>\n",
       "      <td>20-05-2021</td>\n",
       "    </tr>\n",
       "    <tr>\n",
       "      <th>1</th>\n",
       "      <td>1</td>\n",
       "      <td>CVBR2</td>\n",
       "      <td>ios Subscription</td>\n",
       "      <td>Not Updated</td>\n",
       "      <td>2021-05-17</td>\n",
       "      <td>20-05-2021</td>\n",
       "    </tr>\n",
       "  </tbody>\n",
       "</table>\n",
       "</div>"
      ],
      "text/plain": [
       "   Unnamed: 0 Business Rule no.              Reports name       Status  \\\n",
       "0           0             CVBR1  AppFollow ios top funnel  Not Updated   \n",
       "1           1             CVBR2          ios Subscription  Not Updated   \n",
       "\n",
       "  Reports date Current Date  \n",
       "0   18-05-2021   20-05-2021  \n",
       "1   2021-05-17   20-05-2021  "
      ]
     },
     "execution_count": 47,
     "metadata": {},
     "output_type": "execute_result"
    }
   ],
   "source": [
    "df"
   ]
  },
  {
   "cell_type": "code",
   "execution_count": 45,
   "metadata": {},
   "outputs": [
    {
     "data": {
      "text/html": [
       "<div>\n",
       "<style scoped>\n",
       "    .dataframe tbody tr th:only-of-type {\n",
       "        vertical-align: middle;\n",
       "    }\n",
       "\n",
       "    .dataframe tbody tr th {\n",
       "        vertical-align: top;\n",
       "    }\n",
       "\n",
       "    .dataframe thead th {\n",
       "        text-align: right;\n",
       "    }\n",
       "</style>\n",
       "<table border=\"1\" class=\"dataframe\">\n",
       "  <thead>\n",
       "    <tr style=\"text-align: right;\">\n",
       "      <th></th>\n",
       "      <th>Business Rule no.</th>\n",
       "      <th>Reports name</th>\n",
       "      <th>Status</th>\n",
       "      <th>Reports date</th>\n",
       "      <th>Current Date</th>\n",
       "    </tr>\n",
       "  </thead>\n",
       "  <tbody>\n",
       "    <tr>\n",
       "      <th>0</th>\n",
       "      <td>CVBR1</td>\n",
       "      <td>AppFollow ios top funnel</td>\n",
       "      <td>Not Updated</td>\n",
       "      <td>18-05-2021</td>\n",
       "      <td>20-05-2021</td>\n",
       "    </tr>\n",
       "    <tr>\n",
       "      <th>1</th>\n",
       "      <td>CVBR2</td>\n",
       "      <td>ios Subscription</td>\n",
       "      <td>Not Updated</td>\n",
       "      <td>18-05-2021</td>\n",
       "      <td>20-05-2021</td>\n",
       "    </tr>\n",
       "  </tbody>\n",
       "</table>\n",
       "</div>"
      ],
      "text/plain": [
       "  Business Rule no.              Reports name       Status Reports date  \\\n",
       "0             CVBR1  AppFollow ios top funnel  Not Updated   18-05-2021   \n",
       "1             CVBR2          ios Subscription  Not Updated   18-05-2021   \n",
       "\n",
       "  Current Date  \n",
       "0   20-05-2021  \n",
       "1   20-05-2021  "
      ]
     },
     "execution_count": 45,
     "metadata": {},
     "output_type": "execute_result"
    }
   ],
   "source": [
    "df"
   ]
  },
  {
   "cell_type": "code",
   "execution_count": 43,
   "metadata": {},
   "outputs": [
    {
     "data": {
      "text/html": [
       "<div>\n",
       "<style scoped>\n",
       "    .dataframe tbody tr th:only-of-type {\n",
       "        vertical-align: middle;\n",
       "    }\n",
       "\n",
       "    .dataframe tbody tr th {\n",
       "        vertical-align: top;\n",
       "    }\n",
       "\n",
       "    .dataframe thead th {\n",
       "        text-align: right;\n",
       "    }\n",
       "</style>\n",
       "<table border=\"1\" class=\"dataframe\">\n",
       "  <thead>\n",
       "    <tr style=\"text-align: right;\">\n",
       "      <th></th>\n",
       "      <th>Business Rule no.</th>\n",
       "      <th>Reports name</th>\n",
       "      <th>Status</th>\n",
       "      <th>Reports date</th>\n",
       "      <th>Current Date</th>\n",
       "    </tr>\n",
       "  </thead>\n",
       "  <tbody>\n",
       "    <tr>\n",
       "      <th>0</th>\n",
       "      <td>CVBR1</td>\n",
       "      <td>AppFollow ios top funnel</td>\n",
       "      <td>Not Updated</td>\n",
       "      <td>18-05-2021</td>\n",
       "      <td>20-05-2021</td>\n",
       "    </tr>\n",
       "    <tr>\n",
       "      <th>1</th>\n",
       "      <td>CVBR2</td>\n",
       "      <td>ios Subscription</td>\n",
       "      <td>Not Updated</td>\n",
       "      <td>18-05-2021</td>\n",
       "      <td>20-05-2021</td>\n",
       "    </tr>\n",
       "  </tbody>\n",
       "</table>\n",
       "</div>"
      ],
      "text/plain": [
       "  Business Rule no.              Reports name       Status Reports date  \\\n",
       "0             CVBR1  AppFollow ios top funnel  Not Updated   18-05-2021   \n",
       "1             CVBR2          ios Subscription  Not Updated   18-05-2021   \n",
       "\n",
       "  Current Date  \n",
       "0   20-05-2021  \n",
       "1   20-05-2021  "
      ]
     },
     "execution_count": 43,
     "metadata": {},
     "output_type": "execute_result"
    }
   ],
   "source": [
    "df"
   ]
  },
  {
   "cell_type": "code",
   "execution_count": 41,
   "metadata": {},
   "outputs": [
    {
     "data": {
      "text/html": [
       "<div>\n",
       "<style scoped>\n",
       "    .dataframe tbody tr th:only-of-type {\n",
       "        vertical-align: middle;\n",
       "    }\n",
       "\n",
       "    .dataframe tbody tr th {\n",
       "        vertical-align: top;\n",
       "    }\n",
       "\n",
       "    .dataframe thead th {\n",
       "        text-align: right;\n",
       "    }\n",
       "</style>\n",
       "<table border=\"1\" class=\"dataframe\">\n",
       "  <thead>\n",
       "    <tr style=\"text-align: right;\">\n",
       "      <th></th>\n",
       "      <th>Business Rule no.</th>\n",
       "      <th>Reports name</th>\n",
       "      <th>Status</th>\n",
       "      <th>Reports date</th>\n",
       "      <th>Current Date</th>\n",
       "    </tr>\n",
       "  </thead>\n",
       "  <tbody>\n",
       "    <tr>\n",
       "      <th>0</th>\n",
       "      <td>CVBR1</td>\n",
       "      <td>AppFollow ios top funnel</td>\n",
       "      <td>Not Updated</td>\n",
       "      <td>18-05-2021</td>\n",
       "      <td>20-05-2021</td>\n",
       "    </tr>\n",
       "    <tr>\n",
       "      <th>1</th>\n",
       "      <td>CVBR2</td>\n",
       "      <td>ios Subscription</td>\n",
       "      <td>Updated</td>\n",
       "      <td>18-05-2021</td>\n",
       "      <td>20-05-2021</td>\n",
       "    </tr>\n",
       "  </tbody>\n",
       "</table>\n",
       "</div>"
      ],
      "text/plain": [
       "  Business Rule no.              Reports name       Status Reports date  \\\n",
       "0             CVBR1  AppFollow ios top funnel  Not Updated   18-05-2021   \n",
       "1             CVBR2          ios Subscription      Updated   18-05-2021   \n",
       "\n",
       "  Current Date  \n",
       "0   20-05-2021  \n",
       "1   20-05-2021  "
      ]
     },
     "execution_count": 41,
     "metadata": {},
     "output_type": "execute_result"
    }
   ],
   "source": [
    "df"
   ]
  },
  {
   "cell_type": "code",
   "execution_count": 31,
   "metadata": {},
   "outputs": [
    {
     "name": "stdout",
     "output_type": "stream",
     "text": [
      "Updated\n"
     ]
    }
   ],
   "source": [
    "print(mod_df)"
   ]
  },
  {
   "cell_type": "code",
   "execution_count": 28,
   "metadata": {},
   "outputs": [
    {
     "data": {
      "text/html": [
       "<div>\n",
       "<style scoped>\n",
       "    .dataframe tbody tr th:only-of-type {\n",
       "        vertical-align: middle;\n",
       "    }\n",
       "\n",
       "    .dataframe tbody tr th {\n",
       "        vertical-align: top;\n",
       "    }\n",
       "\n",
       "    .dataframe thead th {\n",
       "        text-align: right;\n",
       "    }\n",
       "</style>\n",
       "<table border=\"1\" class=\"dataframe\">\n",
       "  <thead>\n",
       "    <tr style=\"text-align: right;\">\n",
       "      <th></th>\n",
       "      <th>Unnamed: 0</th>\n",
       "      <th>Business Rule no.</th>\n",
       "      <th>Reports name</th>\n",
       "      <th>Status</th>\n",
       "      <th>Reports date</th>\n",
       "      <th>Current Date</th>\n",
       "    </tr>\n",
       "  </thead>\n",
       "  <tbody>\n",
       "    <tr>\n",
       "      <th>0</th>\n",
       "      <td>0</td>\n",
       "      <td>CVBR1</td>\n",
       "      <td>AppFollow ios top funnel</td>\n",
       "      <td>Not Updated</td>\n",
       "      <td>2021-05-18</td>\n",
       "      <td>2021-05-20</td>\n",
       "    </tr>\n",
       "  </tbody>\n",
       "</table>\n",
       "</div>"
      ],
      "text/plain": [
       "   Unnamed: 0 Business Rule no.              Reports name       Status  \\\n",
       "0           0             CVBR1  AppFollow ios top funnel  Not Updated   \n",
       "\n",
       "  Reports date Current Date  \n",
       "0   2021-05-18   2021-05-20  "
      ]
     },
     "execution_count": 28,
     "metadata": {},
     "output_type": "execute_result"
    }
   ],
   "source": [
    "df"
   ]
  },
  {
   "cell_type": "code",
   "execution_count": 26,
   "metadata": {},
   "outputs": [
    {
     "data": {
      "text/html": [
       "<div>\n",
       "<style scoped>\n",
       "    .dataframe tbody tr th:only-of-type {\n",
       "        vertical-align: middle;\n",
       "    }\n",
       "\n",
       "    .dataframe tbody tr th {\n",
       "        vertical-align: top;\n",
       "    }\n",
       "\n",
       "    .dataframe thead th {\n",
       "        text-align: right;\n",
       "    }\n",
       "</style>\n",
       "<table border=\"1\" class=\"dataframe\">\n",
       "  <thead>\n",
       "    <tr style=\"text-align: right;\">\n",
       "      <th></th>\n",
       "      <th>Business Rule no.</th>\n",
       "      <th>Reports name</th>\n",
       "      <th>Status</th>\n",
       "      <th>Reports date</th>\n",
       "      <th>Current Date</th>\n",
       "    </tr>\n",
       "  </thead>\n",
       "  <tbody>\n",
       "    <tr>\n",
       "      <th>0</th>\n",
       "      <td>CVBR1</td>\n",
       "      <td>AppFollow ios top funnel</td>\n",
       "      <td>Not Updated</td>\n",
       "      <td>2021-05-18</td>\n",
       "      <td>2021-05-20</td>\n",
       "    </tr>\n",
       "    <tr>\n",
       "      <th>1</th>\n",
       "      <td>CVBR2</td>\n",
       "      <td>ios subscription</td>\n",
       "      <td>Updated</td>\n",
       "      <td>2021-05-18</td>\n",
       "      <td>2021-05-20</td>\n",
       "    </tr>\n",
       "  </tbody>\n",
       "</table>\n",
       "</div>"
      ],
      "text/plain": [
       "  Business Rule no.              Reports name       Status Reports date  \\\n",
       "0             CVBR1  AppFollow ios top funnel  Not Updated   2021-05-18   \n",
       "1             CVBR2          ios subscription      Updated   2021-05-18   \n",
       "\n",
       "  Current Date  \n",
       "0   2021-05-20  \n",
       "1   2021-05-20  "
      ]
     },
     "execution_count": 26,
     "metadata": {},
     "output_type": "execute_result"
    }
   ],
   "source": [
    "mod_df"
   ]
  },
  {
   "cell_type": "code",
   "execution_count": 25,
   "metadata": {},
   "outputs": [
    {
     "data": {
      "text/html": [
       "<div>\n",
       "<style scoped>\n",
       "    .dataframe tbody tr th:only-of-type {\n",
       "        vertical-align: middle;\n",
       "    }\n",
       "\n",
       "    .dataframe tbody tr th {\n",
       "        vertical-align: top;\n",
       "    }\n",
       "\n",
       "    .dataframe thead th {\n",
       "        text-align: right;\n",
       "    }\n",
       "</style>\n",
       "<table border=\"1\" class=\"dataframe\">\n",
       "  <thead>\n",
       "    <tr style=\"text-align: right;\">\n",
       "      <th></th>\n",
       "      <th>Business Rule no.</th>\n",
       "      <th>Reports name</th>\n",
       "      <th>Status</th>\n",
       "      <th>Reports date</th>\n",
       "      <th>Current Date</th>\n",
       "    </tr>\n",
       "  </thead>\n",
       "  <tbody>\n",
       "    <tr>\n",
       "      <th>0</th>\n",
       "      <td>CVBR1</td>\n",
       "      <td>AppFollow ios top funnel</td>\n",
       "      <td>Not Updated</td>\n",
       "      <td>2021-05-18</td>\n",
       "      <td>2021-05-20</td>\n",
       "    </tr>\n",
       "  </tbody>\n",
       "</table>\n",
       "</div>"
      ],
      "text/plain": [
       "  Business Rule no.              Reports name       Status Reports date  \\\n",
       "0             CVBR1  AppFollow ios top funnel  Not Updated   2021-05-18   \n",
       "\n",
       "  Current Date  \n",
       "0   2021-05-20  "
      ]
     },
     "execution_count": 25,
     "metadata": {},
     "output_type": "execute_result"
    }
   ],
   "source": [
    "df"
   ]
  },
  {
   "cell_type": "code",
   "execution_count": 15,
   "metadata": {},
   "outputs": [
    {
     "data": {
      "text/html": [
       "<div>\n",
       "<style scoped>\n",
       "    .dataframe tbody tr th:only-of-type {\n",
       "        vertical-align: middle;\n",
       "    }\n",
       "\n",
       "    .dataframe tbody tr th {\n",
       "        vertical-align: top;\n",
       "    }\n",
       "\n",
       "    .dataframe thead th {\n",
       "        text-align: right;\n",
       "    }\n",
       "</style>\n",
       "<table border=\"1\" class=\"dataframe\">\n",
       "  <thead>\n",
       "    <tr style=\"text-align: right;\">\n",
       "      <th></th>\n",
       "      <th>Unnamed: 0</th>\n",
       "      <th>Business Rule no.</th>\n",
       "      <th>Reports name</th>\n",
       "      <th>Status</th>\n",
       "      <th>Reports date</th>\n",
       "      <th>Current Date</th>\n",
       "    </tr>\n",
       "  </thead>\n",
       "  <tbody>\n",
       "    <tr>\n",
       "      <th>0</th>\n",
       "      <td>0.0</td>\n",
       "      <td>CVBR1</td>\n",
       "      <td>AppFollow ios top funnel</td>\n",
       "      <td>Not Updated</td>\n",
       "      <td>2021-05-18</td>\n",
       "      <td>2021-05-20</td>\n",
       "    </tr>\n",
       "    <tr>\n",
       "      <th>1</th>\n",
       "      <td>1.0</td>\n",
       "      <td>CVBR2</td>\n",
       "      <td>ios subscription</td>\n",
       "      <td>Not Updated</td>\n",
       "      <td>2021-05-17</td>\n",
       "      <td>2021-05-20</td>\n",
       "    </tr>\n",
       "    <tr>\n",
       "      <th>2</th>\n",
       "      <td>NaN</td>\n",
       "      <td>CVBR2</td>\n",
       "      <td>ios subscription</td>\n",
       "      <td>Updated</td>\n",
       "      <td>2021-05-18</td>\n",
       "      <td>2021-05-20</td>\n",
       "    </tr>\n",
       "  </tbody>\n",
       "</table>\n",
       "</div>"
      ],
      "text/plain": [
       "   Unnamed: 0 Business Rule no.              Reports name       Status  \\\n",
       "0         0.0             CVBR1  AppFollow ios top funnel  Not Updated   \n",
       "1         1.0             CVBR2          ios subscription  Not Updated   \n",
       "2         NaN             CVBR2          ios subscription      Updated   \n",
       "\n",
       "  Reports date Current Date  \n",
       "0   2021-05-18   2021-05-20  \n",
       "1   2021-05-17   2021-05-20  \n",
       "2   2021-05-18   2021-05-20  "
      ]
     },
     "execution_count": 15,
     "metadata": {},
     "output_type": "execute_result"
    }
   ],
   "source": [
    "mod_df"
   ]
  },
  {
   "cell_type": "code",
   "execution_count": 26,
   "metadata": {},
   "outputs": [
    {
     "data": {
      "text/html": [
       "<div>\n",
       "<style scoped>\n",
       "    .dataframe tbody tr th:only-of-type {\n",
       "        vertical-align: middle;\n",
       "    }\n",
       "\n",
       "    .dataframe tbody tr th {\n",
       "        vertical-align: top;\n",
       "    }\n",
       "\n",
       "    .dataframe thead th {\n",
       "        text-align: right;\n",
       "    }\n",
       "</style>\n",
       "<table border=\"1\" class=\"dataframe\">\n",
       "  <thead>\n",
       "    <tr style=\"text-align: right;\">\n",
       "      <th></th>\n",
       "      <th>Business Rule no.</th>\n",
       "      <th>Reports name</th>\n",
       "      <th>Status</th>\n",
       "      <th>Reports date</th>\n",
       "      <th>Current Date</th>\n",
       "    </tr>\n",
       "  </thead>\n",
       "  <tbody>\n",
       "    <tr>\n",
       "      <th>0</th>\n",
       "      <td>CVBR1</td>\n",
       "      <td>AppFollow ios top funnel</td>\n",
       "      <td>Updated</td>\n",
       "      <td>2021-05-18</td>\n",
       "      <td>2021-05-19</td>\n",
       "    </tr>\n",
       "    <tr>\n",
       "      <th>1</th>\n",
       "      <td>CVBR2</td>\n",
       "      <td>ios subscription</td>\n",
       "      <td>Updated</td>\n",
       "      <td>2021-05-17</td>\n",
       "      <td>2021-05-19</td>\n",
       "    </tr>\n",
       "    <tr>\n",
       "      <th>2</th>\n",
       "      <td>CVBR2</td>\n",
       "      <td>ios subscription</td>\n",
       "      <td>Not Updated</td>\n",
       "      <td>2021-05-16</td>\n",
       "      <td>2021-05-19</td>\n",
       "    </tr>\n",
       "    <tr>\n",
       "      <th>3</th>\n",
       "      <td>CVBR2</td>\n",
       "      <td>ios subscription</td>\n",
       "      <td>Not Updated</td>\n",
       "      <td>[]</td>\n",
       "      <td>[]</td>\n",
       "    </tr>\n",
       "  </tbody>\n",
       "</table>\n",
       "</div>"
      ],
      "text/plain": [
       "  Business Rule no.              Reports name       Status Reports date  \\\n",
       "0             CVBR1  AppFollow ios top funnel      Updated   2021-05-18   \n",
       "1             CVBR2          ios subscription      Updated   2021-05-17   \n",
       "2             CVBR2          ios subscription  Not Updated   2021-05-16   \n",
       "3             CVBR2          ios subscription  Not Updated           []   \n",
       "\n",
       "  Current Date  \n",
       "0   2021-05-19  \n",
       "1   2021-05-19  \n",
       "2   2021-05-19  \n",
       "3           []  "
      ]
     },
     "execution_count": 26,
     "metadata": {},
     "output_type": "execute_result"
    }
   ],
   "source": [
    "mod_df"
   ]
  },
  {
   "cell_type": "code",
   "execution_count": 17,
   "metadata": {},
   "outputs": [
    {
     "data": {
      "text/html": [
       "<div>\n",
       "<style scoped>\n",
       "    .dataframe tbody tr th:only-of-type {\n",
       "        vertical-align: middle;\n",
       "    }\n",
       "\n",
       "    .dataframe tbody tr th {\n",
       "        vertical-align: top;\n",
       "    }\n",
       "\n",
       "    .dataframe thead th {\n",
       "        text-align: right;\n",
       "    }\n",
       "</style>\n",
       "<table border=\"1\" class=\"dataframe\">\n",
       "  <thead>\n",
       "    <tr style=\"text-align: right;\">\n",
       "      <th></th>\n",
       "      <th>Business Rule no.</th>\n",
       "      <th>Reports name</th>\n",
       "      <th>Status</th>\n",
       "      <th>Reports date</th>\n",
       "      <th>Current Date</th>\n",
       "    </tr>\n",
       "  </thead>\n",
       "  <tbody>\n",
       "    <tr>\n",
       "      <th>0</th>\n",
       "      <td>CVBR1</td>\n",
       "      <td>AppFollow ios top funnel</td>\n",
       "      <td>Updated</td>\n",
       "      <td>2021-05-18</td>\n",
       "      <td>2021-05-19</td>\n",
       "    </tr>\n",
       "    <tr>\n",
       "      <th>1</th>\n",
       "      <td>CVBR2</td>\n",
       "      <td>ios subscription</td>\n",
       "      <td>Updated</td>\n",
       "      <td>2021-05-17</td>\n",
       "      <td>2021-05-19</td>\n",
       "    </tr>\n",
       "    <tr>\n",
       "      <th>2</th>\n",
       "      <td>CVBR2</td>\n",
       "      <td>ios subscription</td>\n",
       "      <td>Not Updated</td>\n",
       "      <td>2021-05-16</td>\n",
       "      <td>2021-05-19</td>\n",
       "    </tr>\n",
       "    <tr>\n",
       "      <th>3</th>\n",
       "      <td>[CVBR2]</td>\n",
       "      <td>[ios subscription]</td>\n",
       "      <td>[Not Updated]</td>\n",
       "      <td>[]</td>\n",
       "      <td>[]</td>\n",
       "    </tr>\n",
       "  </tbody>\n",
       "</table>\n",
       "</div>"
      ],
      "text/plain": [
       "  Business Rule no.              Reports name         Status Reports date  \\\n",
       "0             CVBR1  AppFollow ios top funnel        Updated   2021-05-18   \n",
       "1             CVBR2          ios subscription        Updated   2021-05-17   \n",
       "2             CVBR2          ios subscription    Not Updated   2021-05-16   \n",
       "3           [CVBR2]        [ios subscription]  [Not Updated]           []   \n",
       "\n",
       "  Current Date  \n",
       "0   2021-05-19  \n",
       "1   2021-05-19  \n",
       "2   2021-05-19  \n",
       "3           []  "
      ]
     },
     "execution_count": 17,
     "metadata": {},
     "output_type": "execute_result"
    }
   ],
   "source": [
    "mod_df"
   ]
  },
  {
   "cell_type": "code",
   "execution_count": null,
   "metadata": {},
   "outputs": [],
   "source": []
  }
 ],
 "metadata": {
  "kernelspec": {
   "display_name": "Python 3",
   "language": "python",
   "name": "python3"
  },
  "language_info": {
   "codemirror_mode": {
    "name": "ipython",
    "version": 3
   },
   "file_extension": ".py",
   "mimetype": "text/x-python",
   "name": "python",
   "nbconvert_exporter": "python",
   "pygments_lexer": "ipython3",
   "version": "3.8.5"
  }
 },
 "nbformat": 4,
 "nbformat_minor": 4
}
