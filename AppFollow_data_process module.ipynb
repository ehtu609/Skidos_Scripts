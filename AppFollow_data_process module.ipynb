{
 "cells": [
  {
   "cell_type": "code",
   "execution_count": 1,
   "metadata": {},
   "outputs": [],
   "source": [
    "from appfollow_api import list_URL\n",
    "from variable_auth import secretkey\n",
    "from af_meta_data import af_app_data_extraction\n",
    "from afprocess_data import af_data_process"
   ]
  },
  {
   "cell_type": "code",
   "execution_count": 2,
   "metadata": {},
   "outputs": [],
   "source": [
    "data=af_app_data_extraction(list_URL, secretkey)"
   ]
  },
  {
   "cell_type": "code",
   "execution_count": 4,
   "metadata": {},
   "outputs": [],
   "source": [
    "app_follow_data=af_data_process(data)"
   ]
  },
  {
   "cell_type": "code",
   "execution_count": 5,
   "metadata": {},
   "outputs": [
    {
     "data": {
      "text/plain": [
       "Index(['count_whatsnew', 'watch_url', 'app_id', 'is_favorite', 'count_reviews',\n",
       "       'created', 'store', 'has_reply_integration', 'app.country', 'app.lang',\n",
       "       'app.release_date', 'app.has_iap', 'app.url', 'app.type', 'app.title',\n",
       "       'app.size', 'app.artist_name'],\n",
       "      dtype='object')"
      ]
     },
     "execution_count": 5,
     "metadata": {},
     "output_type": "execute_result"
    }
   ],
   "source": [
    "app_follow_data.columns"
   ]
  },
  {
   "cell_type": "code",
   "execution_count": 6,
   "metadata": {},
   "outputs": [],
   "source": [
    "app_follow_data = app_follow_data.rename({'app.ext_id':'ext_id'}, inplace=False)"
   ]
  },
  {
   "cell_type": "code",
   "execution_count": 8,
   "metadata": {},
   "outputs": [
    {
     "data": {
      "text/plain": [
       "Index(['count_whatsnew', 'watch_url', 'app_id', 'is_favorite', 'count_reviews',\n",
       "       'created', 'store', 'has_reply_integration', 'app.country', 'app.lang',\n",
       "       'app.release_date', 'app.has_iap', 'app.url', 'app.type', 'app.title',\n",
       "       'app.size', 'app.artist_name'],\n",
       "      dtype='object')"
      ]
     },
     "execution_count": 8,
     "metadata": {},
     "output_type": "execute_result"
    }
   ],
   "source": [
    "app_follow_data.columns"
   ]
  },
  {
   "cell_type": "code",
   "execution_count": null,
   "metadata": {},
   "outputs": [],
   "source": []
  }
 ],
 "metadata": {
  "kernelspec": {
   "display_name": "Python 3",
   "language": "python",
   "name": "python3"
  },
  "language_info": {
   "codemirror_mode": {
    "name": "ipython",
    "version": 3
   },
   "file_extension": ".py",
   "mimetype": "text/x-python",
   "name": "python",
   "nbconvert_exporter": "python",
   "pygments_lexer": "ipython3",
   "version": "3.8.5"
  }
 },
 "nbformat": 4,
 "nbformat_minor": 4
}
